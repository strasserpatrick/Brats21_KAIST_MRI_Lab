{
 "cells": [
  {
   "cell_type": "code",
   "execution_count": 1,
   "metadata": {},
   "outputs": [],
   "source": [
    "import numpy as np\n",
    "from pathlib import Path\n",
    "import nibabel as nib\n",
    "from typing import List\n",
    "import concurrent.futures"
   ]
  },
  {
   "cell_type": "code",
   "execution_count": 2,
   "metadata": {},
   "outputs": [],
   "source": [
    "brats2021_label_path: Path = Path(\n",
    "    \"/home/stud/strasser/data/nnUNet_raw_data/Dataset137_BraTS2021/imagesTr\"\n",
    ")\n",
    "brats2018_label_path: Path = Path(\n",
    "    \"/home/stud/strasser/data/nnUNet_raw_data/Dataset042_BraTS2018/imagesTr\"\n",
    ")\n",
    "\n",
    "# validation data holds no segmentation labels\n",
    "# brats2018_validation_path: Path = Path('/home/stud/strasser/archive/brats2018/MICCAI_BraTS_2018_Data_Validation')"
   ]
  },
  {
   "cell_type": "code",
   "execution_count": 3,
   "metadata": {},
   "outputs": [
    {
     "data": {
      "text/plain": [
       "[PosixPath('/home/stud/strasser/data/nnUNet_raw_data/Dataset137_BraTS2021/imagesTr/BraTS2021_00589_0003.nii.gz'),\n",
       " PosixPath('/home/stud/strasser/data/nnUNet_raw_data/Dataset137_BraTS2021/imagesTr/BraTS2021_01131_0002.nii.gz'),\n",
       " PosixPath('/home/stud/strasser/data/nnUNet_raw_data/Dataset137_BraTS2021/imagesTr/BraTS2021_01616_0003.nii.gz'),\n",
       " PosixPath('/home/stud/strasser/data/nnUNet_raw_data/Dataset137_BraTS2021/imagesTr/BraTS2021_01345_0002.nii.gz'),\n",
       " PosixPath('/home/stud/strasser/data/nnUNet_raw_data/Dataset137_BraTS2021/imagesTr/BraTS2021_00693_0003.nii.gz'),\n",
       " PosixPath('/home/stud/strasser/data/nnUNet_raw_data/Dataset137_BraTS2021/imagesTr/BraTS2021_01462_0003.nii.gz'),\n",
       " PosixPath('/home/stud/strasser/data/nnUNet_raw_data/Dataset137_BraTS2021/imagesTr/BraTS2021_00646_0002.nii.gz'),\n",
       " PosixPath('/home/stud/strasser/data/nnUNet_raw_data/Dataset137_BraTS2021/imagesTr/BraTS2021_01390_0003.nii.gz'),\n",
       " PosixPath('/home/stud/strasser/data/nnUNet_raw_data/Dataset137_BraTS2021/imagesTr/BraTS2021_00728_0002.nii.gz'),\n",
       " PosixPath('/home/stud/strasser/data/nnUNet_raw_data/Dataset137_BraTS2021/imagesTr/BraTS2021_00432_0002.nii.gz')]"
      ]
     },
     "execution_count": 3,
     "metadata": {},
     "output_type": "execute_result"
    }
   ],
   "source": [
    "brats2021_label_nii_gz_file_paths: List[Path] = list(brats2021_label_path.glob(\"*\"))\n",
    "brats2021_label_nii_gz_file_paths[:10]"
   ]
  },
  {
   "cell_type": "code",
   "execution_count": 4,
   "metadata": {},
   "outputs": [
    {
     "data": {
      "text/plain": [
       "[PosixPath('/home/stud/strasser/data/nnUNet_raw_data/Dataset042_BraTS2018/imagesTr/Brats18_TCIA10_640_1_0001.nii'),\n",
       " PosixPath('/home/stud/strasser/data/nnUNet_raw_data/Dataset042_BraTS2018/imagesTr/Brats18_2013_5_1_0001.nii'),\n",
       " PosixPath('/home/stud/strasser/data/nnUNet_raw_data/Dataset042_BraTS2018/imagesTr/Brats18_CBICA_ASH_1_0001.nii'),\n",
       " PosixPath('/home/stud/strasser/data/nnUNet_raw_data/Dataset042_BraTS2018/imagesTr/Brats18_TCIA03_474_1_0002.nii'),\n",
       " PosixPath('/home/stud/strasser/data/nnUNet_raw_data/Dataset042_BraTS2018/imagesTr/Brats18_CBICA_APZ_1_0000.nii'),\n",
       " PosixPath('/home/stud/strasser/data/nnUNet_raw_data/Dataset042_BraTS2018/imagesTr/Brats18_CBICA_APR_1_0002.nii'),\n",
       " PosixPath('/home/stud/strasser/data/nnUNet_raw_data/Dataset042_BraTS2018/imagesTr/Brats18_TCIA10_346_1_0002.nii'),\n",
       " PosixPath('/home/stud/strasser/data/nnUNet_raw_data/Dataset042_BraTS2018/imagesTr/Brats18_CBICA_ALN_1_0001.nii'),\n",
       " PosixPath('/home/stud/strasser/data/nnUNet_raw_data/Dataset042_BraTS2018/imagesTr/Brats18_TCIA13_624_1_0000.nii'),\n",
       " PosixPath('/home/stud/strasser/data/nnUNet_raw_data/Dataset042_BraTS2018/imagesTr/Brats18_CBICA_AXQ_1_0002.nii')]"
      ]
     },
     "execution_count": 4,
     "metadata": {},
     "output_type": "execute_result"
    }
   ],
   "source": [
    "brats2018_label_nii_gz_file_paths: List[Path] = list(brats2018_label_path.glob(\"*\"))\n",
    "brats2018_label_nii_gz_file_paths[:10]"
   ]
  },
  {
   "cell_type": "code",
   "execution_count": 5,
   "metadata": {},
   "outputs": [],
   "source": [
    "# # Naive without multitasking\n",
    "\n",
    "# for brats2018_fp in tqdm(brats2018_segmentation_mask_file_paths):\n",
    "#     brats2018_segmentation_nparr = nib.load(brats2018_fp).get_fdata()\n",
    "\n",
    "#     for brats2021_nii_gz_path in brats2021_label_nii_gz_file_paths:\n",
    "#         brats2021_segmentation_image = nib.load(brats2021_nii_gz_path)\n",
    "#         brats2021_segmentation_np = brats2021_segmentation_image.get_fdata()\n",
    "\n",
    "#         # check for equality\n",
    "#         if np.array_equal(brats2018_segmentation_nparr, brats2021_segmentation_np):\n",
    "#             raise ValueError(f\"Duplicate in segmentation mask for file {brats2021_nii_gz_path}\")\n",
    "\n",
    "# print(\"no overlap\")"
   ]
  },
  {
   "cell_type": "code",
   "execution_count": 6,
   "metadata": {},
   "outputs": [
    {
     "name": "stdout",
     "output_type": "stream",
     "text": [
      "brats 2018:  1140\n",
      "brats 2021:  5004\n",
      "product:  5704560\n"
     ]
    }
   ],
   "source": [
    "print(\"brats 2018: \", len(brats2018_label_nii_gz_file_paths))\n",
    "print(\"brats 2021: \", len(brats2021_label_nii_gz_file_paths))\n",
    "\n",
    "print(\n",
    "    \"product: \",\n",
    "    len(brats2018_label_nii_gz_file_paths)\n",
    "    * len(brats2021_label_nii_gz_file_paths),\n",
    ")"
   ]
  },
  {
   "cell_type": "code",
   "execution_count": 7,
   "metadata": {},
   "outputs": [
    {
     "name": "stdout",
     "output_type": "stream",
     "text": [
      "checked 2148 / 5704560\t duplicates: 0\r"
     ]
    }
   ],
   "source": [
    "def check_segmentation_equality(brats2018_fp, brats2021_nii_gz_path):\n",
    "    brats2018_segmentation_nparr = nib.load(brats2018_fp).get_fdata()\n",
    "    brats2021_segmentation_nparr = nib.load(brats2021_nii_gz_path).get_fdata()\n",
    "\n",
    "    if np.array_equal(brats2018_segmentation_nparr, brats2021_segmentation_nparr):\n",
    "        print(f\"found duplicate between 2018 {brats2018_fp} and 2021 {brats2021_nii_gz_path}\")\n",
    "        return 1\n",
    "    return 0\n",
    "\n",
    "NUM_WORKERS = 16\n",
    "\n",
    "with concurrent.futures.ThreadPoolExecutor(max_workers=NUM_WORKERS) as executor:\n",
    "    futures = []\n",
    "    total = 0\n",
    "\n",
    "    for brats2018_fp in brats2018_label_nii_gz_file_paths:\n",
    "        for brats2021_nii_gz_path in brats2021_label_nii_gz_file_paths:\n",
    "            total += 1\n",
    "            futures.append(\n",
    "                executor.submit(\n",
    "                    check_segmentation_equality, brats2018_fp, brats2021_nii_gz_path\n",
    "                )\n",
    "            )\n",
    "\n",
    "    done = dup = 0\n",
    "    for future in concurrent.futures.as_completed(futures):\n",
    "        dup += future.result()\n",
    "        done += 1\n",
    "        print(f\"checked {done} / {total}\\t duplicates: {dup}\", end=\"\\r\")\n",
    "\n",
    "print(\"no overlap\")"
   ]
  }
 ],
 "metadata": {
  "kernelspec": {
   "display_name": "base",
   "language": "python",
   "name": "python3"
  },
  "language_info": {
   "codemirror_mode": {
    "name": "ipython",
    "version": 3
   },
   "file_extension": ".py",
   "mimetype": "text/x-python",
   "name": "python",
   "nbconvert_exporter": "python",
   "pygments_lexer": "ipython3",
   "version": "3.12.1"
  }
 },
 "nbformat": 4,
 "nbformat_minor": 2
}
