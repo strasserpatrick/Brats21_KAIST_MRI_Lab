{
 "cells": [
  {
   "cell_type": "code",
   "execution_count": 14,
   "metadata": {},
   "outputs": [],
   "source": [
    "import numpy as np\n",
    "from pathlib import Path\n",
    "import nibabel as nib\n",
    "from typing import List\n",
    "import concurrent.futures\n",
    "from tqdm import tqdm"
   ]
  },
  {
   "cell_type": "code",
   "execution_count": 15,
   "metadata": {},
   "outputs": [],
   "source": [
    "brats2021_label_path: Path = Path(\n",
    "    \"/home/stud/strasser/archive/brats2021/\"\n",
    ")\n",
    "brats2019_train_path: Path = Path(\n",
    "    \"/home/stud/strasser/archive/brats2019/MICCAI_BraTS_2019_Data_Training\"\n",
    ")"
   ]
  },
  {
   "cell_type": "code",
   "execution_count": 16,
   "metadata": {},
   "outputs": [
    {
     "name": "stderr",
     "output_type": "stream",
     "text": [
      "  0%|          | 0/1251 [00:00<?, ?it/s]"
     ]
    },
    {
     "name": "stderr",
     "output_type": "stream",
     "text": [
      "100%|██████████| 1251/1251 [00:01<00:00, 1210.70it/s]\n"
     ]
    },
    {
     "data": {
      "text/plain": [
       "[PosixPath('/home/stud/strasser/archive/brats2021/BraTS2021_01196/BraTS2021_01196_t2.nii.gz'),\n",
       " PosixPath('/home/stud/strasser/archive/brats2021/BraTS2021_01002/BraTS2021_01002_t2.nii.gz'),\n",
       " PosixPath('/home/stud/strasser/archive/brats2021/BraTS2021_01075/BraTS2021_01075_t2.nii.gz'),\n",
       " PosixPath('/home/stud/strasser/archive/brats2021/BraTS2021_01178/BraTS2021_01178_t2.nii.gz'),\n",
       " PosixPath('/home/stud/strasser/archive/brats2021/BraTS2021_00767/BraTS2021_00767_t2.nii.gz'),\n",
       " PosixPath('/home/stud/strasser/archive/brats2021/BraTS2021_00684/BraTS2021_00684_t2.nii.gz'),\n",
       " PosixPath('/home/stud/strasser/archive/brats2021/BraTS2021_00789/BraTS2021_00789_t2.nii.gz'),\n",
       " PosixPath('/home/stud/strasser/archive/brats2021/BraTS2021_01432/BraTS2021_01432_t2.nii.gz'),\n",
       " PosixPath('/home/stud/strasser/archive/brats2021/BraTS2021_01445/BraTS2021_01445_t2.nii.gz'),\n",
       " PosixPath('/home/stud/strasser/archive/brats2021/BraTS2021_01548/BraTS2021_01548_t2.nii.gz')]"
      ]
     },
     "execution_count": 16,
     "metadata": {},
     "output_type": "execute_result"
    }
   ],
   "source": [
    "brats2021_label_nii_gz_file_paths: List[Path] = []\n",
    "\n",
    "for folder in tqdm(list(brats2021_label_path.glob(\"*\"))):\n",
    "    brats2021_label_nii_gz_file_paths += list(folder.glob(\"*t2.nii.gz\"))\n",
    "\n",
    "\n",
    "brats2021_label_nii_gz_file_paths[:10]"
   ]
  },
  {
   "cell_type": "code",
   "execution_count": 17,
   "metadata": {},
   "outputs": [
    {
     "data": {
      "text/plain": [
       "[PosixPath('/home/stud/strasser/archive/brats2019/MICCAI_BraTS_2019_Data_Training/HGG/BraTS19_CBICA_BHV_1/BraTS19_CBICA_BHV_1_t2.nii'),\n",
       " PosixPath('/home/stud/strasser/archive/brats2019/MICCAI_BraTS_2019_Data_Training/HGG/BraTS19_CBICA_BGN_1/BraTS19_CBICA_BGN_1_t2.nii'),\n",
       " PosixPath('/home/stud/strasser/archive/brats2019/MICCAI_BraTS_2019_Data_Training/HGG/BraTS19_TCIA01_425_1/BraTS19_TCIA01_425_1_t2.nii'),\n",
       " PosixPath('/home/stud/strasser/archive/brats2019/MICCAI_BraTS_2019_Data_Training/HGG/BraTS19_TCIA02_168_1/BraTS19_TCIA02_168_1_t2.nii'),\n",
       " PosixPath('/home/stud/strasser/archive/brats2019/MICCAI_BraTS_2019_Data_Training/HGG/BraTS19_TCIA03_121_1/BraTS19_TCIA03_121_1_t2.nii'),\n",
       " PosixPath('/home/stud/strasser/archive/brats2019/MICCAI_BraTS_2019_Data_Training/HGG/BraTS19_TCIA04_328_1/BraTS19_TCIA04_328_1_t2.nii'),\n",
       " PosixPath('/home/stud/strasser/archive/brats2019/MICCAI_BraTS_2019_Data_Training/HGG/BraTS19_TCIA05_396_1/BraTS19_TCIA05_396_1_t2.nii'),\n",
       " PosixPath('/home/stud/strasser/archive/brats2019/MICCAI_BraTS_2019_Data_Training/HGG/BraTS19_CBICA_BCL_1/BraTS19_CBICA_BCL_1_t2.nii'),\n",
       " PosixPath('/home/stud/strasser/archive/brats2019/MICCAI_BraTS_2019_Data_Training/HGG/BraTS19_CBICA_ASA_1/BraTS19_CBICA_ASA_1_t2.nii'),\n",
       " PosixPath('/home/stud/strasser/archive/brats2019/MICCAI_BraTS_2019_Data_Training/HGG/BraTS19_TMC_27374_1/BraTS19_TMC_27374_1_t2.nii')]"
      ]
     },
     "execution_count": 17,
     "metadata": {},
     "output_type": "execute_result"
    }
   ],
   "source": [
    "brats_2019_hgg = brats2019_train_path / \"HGG\"\n",
    "brats_2019_lgg = brats2019_train_path / \"LGG\"\n",
    "\n",
    "hgg_paths = [\n",
    "    folder\n",
    "    for instance in brats_2019_hgg.iterdir()\n",
    "    if instance.is_dir()\n",
    "    for folder in list(instance.glob(\"*t2.nii\"))\n",
    "]\n",
    "lgg_paths = [\n",
    "    folder\n",
    "    for instance in brats_2019_lgg.iterdir()\n",
    "    if instance.is_dir()\n",
    "    for folder in list(instance.glob(\"*t2.nii\"))\n",
    "]\n",
    "\n",
    "brats2019_segmentation_mask_file_paths: List[Path] = hgg_paths + lgg_paths\n",
    "brats2019_segmentation_mask_file_paths[:10]"
   ]
  },
  {
   "cell_type": "code",
   "execution_count": 18,
   "metadata": {},
   "outputs": [
    {
     "data": {
      "text/plain": [
       "(240, 240, 155)"
      ]
     },
     "execution_count": 18,
     "metadata": {},
     "output_type": "execute_result"
    }
   ],
   "source": [
    "# now check for one file of 2019, if its segmentation mask occurs in 2021\n",
    "\n",
    "brats2019_segmentation_path = brats2019_segmentation_mask_file_paths[10]\n",
    "brats2019_segmentation_image = nib.load(brats2019_segmentation_path)\n",
    "\n",
    "# Numpy-Array aus der .nii-Datei extrahieren\n",
    "brats2019_segmentation_np = brats2019_segmentation_image.get_fdata()\n",
    "brats2019_segmentation_np.shape"
   ]
  },
  {
   "cell_type": "code",
   "execution_count": 7,
   "metadata": {},
   "outputs": [],
   "source": [
    "# # Naive without multitasking\n",
    "\n",
    "# for brats2018_fp in tqdm(brats2018_segmentation_mask_file_paths):\n",
    "#     brats2018_segmentation_nparr = nib.load(brats2018_fp).get_fdata()\n",
    "\n",
    "#     for brats2021_nii_gz_path in brats2021_label_nii_gz_file_paths:\n",
    "#         brats2021_segmentation_image = nib.load(brats2021_nii_gz_path)\n",
    "#         brats2021_segmentation_np = brats2021_segmentation_image.get_fdata()\n",
    "\n",
    "#         # check for equality\n",
    "#         if np.array_equal(brats2018_segmentation_nparr, brats2021_segmentation_np):\n",
    "#             raise ValueError(f\"Duplicate in segmentation mask for file {brats2021_nii_gz_path}\")\n",
    "\n",
    "# print(\"no overlap\")"
   ]
  },
  {
   "cell_type": "code",
   "execution_count": 19,
   "metadata": {},
   "outputs": [
    {
     "name": "stdout",
     "output_type": "stream",
     "text": [
      "brats 2019:  335\n",
      "brats 2021:  1251\n",
      "product:  419085\n"
     ]
    }
   ],
   "source": [
    "print(\"brats 2019: \", len(brats2019_segmentation_mask_file_paths))\n",
    "print(\"brats 2021: \", len(brats2021_label_nii_gz_file_paths))\n",
    "\n",
    "print(\n",
    "    \"product: \",\n",
    "    len(brats2019_segmentation_mask_file_paths)\n",
    "    * len(brats2021_label_nii_gz_file_paths),\n",
    ")"
   ]
  },
  {
   "cell_type": "code",
   "execution_count": 9,
   "metadata": {},
   "outputs": [
    {
     "name": "stdout",
     "output_type": "stream",
     "text": [
      "checked 1203 / 419085\r"
     ]
    }
   ],
   "source": [
    "def check_segmentation_equality(brats2019_fp, brats2021_nii_gz_path):\n",
    "    brats2019_segmentation_nparr = nib.load(brats2019_fp).get_fdata()\n",
    "    brats2021_segmentation_image = nib.load(brats2021_nii_gz_path)\n",
    "    brats2021_segmentation_np = brats2021_segmentation_image.get_fdata()\n",
    "\n",
    "    if np.array_equal(brats2019_segmentation_nparr, brats2021_segmentation_np):\n",
    "        raise ValueError(\n",
    "            f\"Duplicate in segmentation mask for file {brats2021_nii_gz_path}\"\n",
    "        )\n",
    "\n",
    "\n",
    "NUM_WORKERS = 16\n",
    "\n",
    "with concurrent.futures.ThreadPoolExecutor(max_workers=NUM_WORKERS) as executor:\n",
    "    futures = []\n",
    "    total = 0\n",
    "\n",
    "    for brats2019_fp in brats2019_segmentation_mask_file_paths:\n",
    "        for brats2021_nii_gz_path in brats2021_label_nii_gz_file_paths:\n",
    "            total += 1\n",
    "            futures.append(\n",
    "                executor.submit(\n",
    "                    check_segmentation_equality, brats2019_fp, brats2021_nii_gz_path\n",
    "                )\n",
    "            )\n",
    "\n",
    "    done = 0\n",
    "    for future in concurrent.futures.as_completed(futures):\n",
    "        future.result()\n",
    "\n",
    "        done += 1\n",
    "        print(f\"checked {done} / {total}\", end=\"\\r\")\n",
    "\n",
    "print(\"no overlap\")"
   ]
  }
 ],
 "metadata": {
  "kernelspec": {
   "display_name": "base",
   "language": "python",
   "name": "python3"
  },
  "language_info": {
   "codemirror_mode": {
    "name": "ipython",
    "version": 3
   },
   "file_extension": ".py",
   "mimetype": "text/x-python",
   "name": "python",
   "nbconvert_exporter": "python",
   "pygments_lexer": "ipython3",
   "version": "3.12.1"
  }
 },
 "nbformat": 4,
 "nbformat_minor": 2
}
