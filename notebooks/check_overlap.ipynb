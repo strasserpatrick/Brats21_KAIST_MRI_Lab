{
 "cells": [
  {
   "cell_type": "code",
   "execution_count": 2,
   "metadata": {},
   "outputs": [],
   "source": [
    "import numpy as np\n",
    "from pathlib import Path\n",
    "import nibabel as nib\n",
    "from typing import List\n",
    "import concurrent.futures"
   ]
  },
  {
   "cell_type": "code",
   "execution_count": 3,
   "metadata": {},
   "outputs": [],
   "source": [
    "brats2021_label_path: Path = Path(\n",
    "    \"/home/stud/strasser/data/nnUNet_raw_data/Task500_BraTS2021/labelsTr\"\n",
    ")\n",
    "brats2018_train_path: Path = Path(\n",
    "    \"/home/stud/strasser/archive/brats2018/MICCAI_BraTS_2018_Data_Training\"\n",
    ")\n",
    "\n",
    "# validation data holds no segmentation labels\n",
    "# brats2018_validation_path: Path = Path('/home/stud/strasser/archive/brats2018/MICCAI_BraTS_2018_Data_Validation')"
   ]
  },
  {
   "cell_type": "code",
   "execution_count": 4,
   "metadata": {},
   "outputs": [
    {
     "data": {
      "text/plain": [
       "[PosixPath('/home/stud/strasser/data/nnUNet_raw_data/Task500_BraTS2021/labelsTr/BraTS2021_00095.nii.gz'),\n",
       " PosixPath('/home/stud/strasser/data/nnUNet_raw_data/Task500_BraTS2021/labelsTr/BraTS2021_00567.nii.gz'),\n",
       " PosixPath('/home/stud/strasser/data/nnUNet_raw_data/Task500_BraTS2021/labelsTr/BraTS2021_00340.nii.gz'),\n",
       " PosixPath('/home/stud/strasser/data/nnUNet_raw_data/Task500_BraTS2021/labelsTr/BraTS2021_01459.nii.gz'),\n",
       " PosixPath('/home/stud/strasser/data/nnUNet_raw_data/Task500_BraTS2021/labelsTr/BraTS2021_01664.nii.gz'),\n",
       " PosixPath('/home/stud/strasser/data/nnUNet_raw_data/Task500_BraTS2021/labelsTr/BraTS2021_01043.nii.gz'),\n",
       " PosixPath('/home/stud/strasser/data/nnUNet_raw_data/Task500_BraTS2021/labelsTr/BraTS2021_01396.nii.gz'),\n",
       " PosixPath('/home/stud/strasser/data/nnUNet_raw_data/Task500_BraTS2021/labelsTr/BraTS2021_00233.nii.gz'),\n",
       " PosixPath('/home/stud/strasser/data/nnUNet_raw_data/Task500_BraTS2021/labelsTr/BraTS2021_00414.nii.gz'),\n",
       " PosixPath('/home/stud/strasser/data/nnUNet_raw_data/Task500_BraTS2021/labelsTr/BraTS2021_01130.nii.gz')]"
      ]
     },
     "execution_count": 4,
     "metadata": {},
     "output_type": "execute_result"
    }
   ],
   "source": [
    "brats2021_label_nii_gz_file_paths: List[Path] = list(brats2021_label_path.glob(\"*\"))\n",
    "brats2021_label_nii_gz_file_paths[:10]"
   ]
  },
  {
   "cell_type": "code",
   "execution_count": 5,
   "metadata": {},
   "outputs": [
    {
     "data": {
      "text/plain": [
       "[PosixPath('/home/stud/strasser/archive/brats2018/MICCAI_BraTS_2018_Data_Training/HGG/Brats18_TCIA08_105_1/Brats18_TCIA08_105_1_seg.nii'),\n",
       " PosixPath('/home/stud/strasser/archive/brats2018/MICCAI_BraTS_2018_Data_Training/HGG/Brats18_CBICA_AXM_1/Brats18_CBICA_AXM_1_seg.nii'),\n",
       " PosixPath('/home/stud/strasser/archive/brats2018/MICCAI_BraTS_2018_Data_Training/HGG/Brats18_TCIA06_165_1/Brats18_TCIA06_165_1_seg.nii'),\n",
       " PosixPath('/home/stud/strasser/archive/brats2018/MICCAI_BraTS_2018_Data_Training/HGG/Brats18_TCIA03_498_1/Brats18_TCIA03_498_1_seg.nii'),\n",
       " PosixPath('/home/stud/strasser/archive/brats2018/MICCAI_BraTS_2018_Data_Training/HGG/Brats18_TCIA02_179_1/Brats18_TCIA02_179_1_seg.nii'),\n",
       " PosixPath('/home/stud/strasser/archive/brats2018/MICCAI_BraTS_2018_Data_Training/HGG/Brats18_TCIA04_361_1/Brats18_TCIA04_361_1_seg.nii'),\n",
       " PosixPath('/home/stud/strasser/archive/brats2018/MICCAI_BraTS_2018_Data_Training/HGG/Brats18_TCIA01_186_1/Brats18_TCIA01_186_1_seg.nii'),\n",
       " PosixPath('/home/stud/strasser/archive/brats2018/MICCAI_BraTS_2018_Data_Training/HGG/Brats18_CBICA_ASH_1/Brats18_CBICA_ASH_1_seg.nii'),\n",
       " PosixPath('/home/stud/strasser/archive/brats2018/MICCAI_BraTS_2018_Data_Training/HGG/Brats18_TCIA03_375_1/Brats18_TCIA03_375_1_seg.nii'),\n",
       " PosixPath('/home/stud/strasser/archive/brats2018/MICCAI_BraTS_2018_Data_Training/HGG/Brats18_CBICA_ASW_1/Brats18_CBICA_ASW_1_seg.nii')]"
      ]
     },
     "execution_count": 5,
     "metadata": {},
     "output_type": "execute_result"
    }
   ],
   "source": [
    "brats_2018_hgg = brats2018_train_path / \"HGG\"\n",
    "brats_2018_lgg = brats2018_train_path / \"LGG\"\n",
    "\n",
    "hgg_paths = [\n",
    "    folder\n",
    "    for instance in brats_2018_hgg.iterdir()\n",
    "    if instance.is_dir()\n",
    "    for folder in list(instance.glob(\"*_seg.nii\"))\n",
    "]\n",
    "lgg_paths = [\n",
    "    folder\n",
    "    for instance in brats_2018_lgg.iterdir()\n",
    "    if instance.is_dir()\n",
    "    for folder in list(instance.glob(\"*_seg.nii\"))\n",
    "]\n",
    "\n",
    "brats2018_segmentation_mask_file_paths: List[Path] = hgg_paths + lgg_paths\n",
    "brats2018_segmentation_mask_file_paths[:10]"
   ]
  },
  {
   "cell_type": "code",
   "execution_count": 6,
   "metadata": {},
   "outputs": [
    {
     "data": {
      "text/plain": [
       "(240, 240, 155)"
      ]
     },
     "execution_count": 6,
     "metadata": {},
     "output_type": "execute_result"
    }
   ],
   "source": [
    "# now check for one file of 2018, if its segmentation mask occurs in 2021\n",
    "\n",
    "brats2018_segmentation_path = brats2018_segmentation_mask_file_paths[10]\n",
    "brats2018_segmentation_image = nib.load(brats2018_segmentation_path)\n",
    "\n",
    "# Numpy-Array aus der .nii-Datei extrahieren\n",
    "brats2018_segmentation_np = brats2018_segmentation_image.get_fdata()\n",
    "brats2018_segmentation_np.shape"
   ]
  },
  {
   "cell_type": "code",
   "execution_count": 8,
   "metadata": {},
   "outputs": [],
   "source": [
    "# # Naive without multitasking\n",
    "\n",
    "# for brats2018_fp in tqdm(brats2018_segmentation_mask_file_paths):\n",
    "#     brats2018_segmentation_nparr = nib.load(brats2018_fp).get_fdata()\n",
    "\n",
    "#     for brats2021_nii_gz_path in brats2021_label_nii_gz_file_paths:\n",
    "#         brats2021_segmentation_image = nib.load(brats2021_nii_gz_path)\n",
    "#         brats2021_segmentation_np = brats2021_segmentation_image.get_fdata()\n",
    "\n",
    "#         # check for equality\n",
    "#         if np.array_equal(brats2018_segmentation_nparr, brats2021_segmentation_np):\n",
    "#             raise ValueError(f\"Duplicate in segmentation mask for file {brats2021_nii_gz_path}\")\n",
    "\n",
    "# print(\"no overlap\")"
   ]
  },
  {
   "cell_type": "code",
   "execution_count": null,
   "metadata": {},
   "outputs": [],
   "source": [
    "print(\"brats 2018: \", len(brats2018_segmentation_mask_file_paths))\n",
    "print(\"brats 2021: \", len(brats2021_label_nii_gz_file_paths))\n",
    "\n",
    "print(\n",
    "    \"product: \",\n",
    "    len(brats2018_segmentation_mask_file_paths)\n",
    "    * len(brats2021_label_nii_gz_file_paths),\n",
    ")"
   ]
  },
  {
   "cell_type": "code",
   "execution_count": 9,
   "metadata": {},
   "outputs": [],
   "source": [
    "def check_segmentation_equality(brats2018_fp, brats2021_nii_gz_path):\n",
    "    brats2018_segmentation_nparr = nib.load(brats2018_fp).get_fdata()\n",
    "    brats2021_segmentation_image = nib.load(brats2021_nii_gz_path)\n",
    "    brats2021_segmentation_np = brats2021_segmentation_image.get_fdata()\n",
    "\n",
    "    if np.array_equal(brats2018_segmentation_nparr, brats2021_segmentation_np):\n",
    "        raise ValueError(\n",
    "            f\"Duplicate in segmentation mask for file {brats2021_nii_gz_path}\"\n",
    "        )\n",
    "\n",
    "\n",
    "NUM_WORKERS = 16\n",
    "\n",
    "with concurrent.futures.ThreadPoolExecutor(max_workers=NUM_WORKERS) as executor:\n",
    "    futures = []\n",
    "    total = 0\n",
    "\n",
    "    for brats2018_fp in brats2018_segmentation_mask_file_paths:\n",
    "        for brats2021_nii_gz_path in brats2021_label_nii_gz_file_paths:\n",
    "            total += 1\n",
    "            futures.append(\n",
    "                executor.submit(\n",
    "                    check_segmentation_equality, brats2018_fp, brats2021_nii_gz_path\n",
    "                )\n",
    "            )\n",
    "\n",
    "    done = 0\n",
    "    for future in concurrent.futures.as_completed(futures):\n",
    "        future.result()\n",
    "\n",
    "        done += 1\n",
    "        print(f\"checked {done} / {total}\", end=\"\\r\")\n",
    "\n",
    "print(\"no overlap\")"
   ]
  }
 ],
 "metadata": {
  "kernelspec": {
   "display_name": "base",
   "language": "python",
   "name": "python3"
  },
  "language_info": {
   "codemirror_mode": {
    "name": "ipython",
    "version": 3
   },
   "file_extension": ".py",
   "mimetype": "text/x-python",
   "name": "python",
   "nbconvert_exporter": "python",
   "pygments_lexer": "ipython3",
   "version": "3.12.1"
  }
 },
 "nbformat": 4,
 "nbformat_minor": 2
}
